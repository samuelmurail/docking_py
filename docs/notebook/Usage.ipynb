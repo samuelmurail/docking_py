{
 "cells": [
  {
   "cell_type": "markdown",
   "metadata": {},
   "source": [
    "# Usage\n",
    "\n",
    "To explain the usage of ``docking_py``, we will use a redocking procedure\n",
    "\n",
    "The same project should be launched from the ``docking`` conda environment:\n",
    "\n",
    "```\n",
    "$ conda activate docking\n",
    "```\n",
    "\n",
    "To use Docking Python in a project:"
   ]
  },
  {
   "cell_type": "code",
   "execution_count": 1,
   "metadata": {},
   "outputs": [],
   "source": [
    "from pdb_manip_py import pdb_manip"
   ]
  },
  {
   "cell_type": "markdown",
   "metadata": {},
   "source": [
    "## Extract Ligand coordinates with pdb_manip_py\n",
    "\n",
    "First you need to extract the ligand coordinates, we will use the ``1hsg.pdb``\n",
    "PDB file and extract the coordinates of L-735,524 an inhibitor of the HIV proteases (resname ``MK1``) using the ``pdb_manip_py`` library (Installed with ``docking_py``):"
   ]
  },
  {
   "cell_type": "code",
   "execution_count": 2,
   "metadata": {},
   "outputs": [],
   "source": [
    "# Create a Coor object\n",
    "coor_1hsg = pdb_manip.Coor()\n",
    "coor_1hsg.get_PDB('1hsg', 'data/1hsg.pdb')"
   ]
  },
  {
   "cell_type": "code",
   "execution_count": 3,
   "metadata": {},
   "outputs": [],
   "source": [
    "# Select res_name MK1\n",
    "lig_coor = coor_1hsg.select_part_dict(selec_dict={'res_name': ['MK1']})\n",
    "# Save the ligand coordinates\n",
    "lig_coor.write_pdb('data/lig.pdb')"
   ]
  },
  {
   "cell_type": "code",
   "execution_count": 17,
   "metadata": {},
   "outputs": [
    {
     "data": {
      "application/vnd.jupyter.widget-view+json": {
       "model_id": "32139d78c4684bd39ba35d1a821b3a0f",
       "version_major": 2,
       "version_minor": 0
      },
      "text/plain": [
       "NGLWidget()"
      ]
     },
     "metadata": {},
     "output_type": "display_data"
    }
   ],
   "source": [
    "view_lig = lig_coor.view\n",
    "view_lig"
   ]
  },
  {
   "cell_type": "code",
   "execution_count": 19,
   "metadata": {
    "nbsphinx": "hidden"
   },
   "outputs": [],
   "source": [
    "# To hide this cell add the following info in the cell metadata:\n",
    "# \"nbsphinx\": \"hidden\"\n",
    "import nglview as nv\n",
    "nv.write_html('../_static/lig.html', [view_lig])\n",
    "from IPython.display import IFrame"
   ]
  },
  {
   "cell_type": "code",
   "execution_count": 20,
   "metadata": {},
   "outputs": [
    {
     "data": {
      "text/html": [
       "\n",
       "        <iframe\n",
       "            width=\"800\"\n",
       "            height=\"300\"\n",
       "            src=\"../_static/lig.html\"\n",
       "            frameborder=\"0\"\n",
       "            allowfullscreen\n",
       "        ></iframe>\n",
       "        "
      ],
      "text/plain": [
       "<IPython.lib.display.IFrame at 0x7f70533bf370>"
      ]
     },
     "execution_count": 20,
     "metadata": {},
     "output_type": "execute_result"
    }
   ],
   "source": [
    "# Unecessary, only need to nglview online:\n",
    "IFrame(src='../_static/lig.html', width=800, height=300)"
   ]
  },
  {
   "cell_type": "markdown",
   "metadata": {},
   "source": [
    "## Extract Receptor coordinates with pdb_manip_py\n",
    "\n",
    "Then you need to extract the receptor coordinates, we will use the \n",
    "``1hsg.pdb`` PDB file and extract the coordinates of the HIV II protease \n",
    "using the ``pdb_manip_py`` library:"
   ]
  },
  {
   "cell_type": "code",
   "execution_count": 21,
   "metadata": {},
   "outputs": [],
   "source": [
    "# Keep only the amino acids\n",
    "rec_coor = coor_1hsg.select_part_dict(selec_dict={'res_name': pdb_manip.PROTEIN_RES})\n",
    "rec_coor.write_pdb('data/rec.pdb')"
   ]
  },
  {
   "cell_type": "code",
   "execution_count": 22,
   "metadata": {},
   "outputs": [
    {
     "data": {
      "application/vnd.jupyter.widget-view+json": {
       "model_id": "78491598eeca47b394076c77f8a9b44d",
       "version_major": 2,
       "version_minor": 0
      },
      "text/plain": [
       "NGLWidget()"
      ]
     },
     "metadata": {},
     "output_type": "display_data"
    }
   ],
   "source": [
    "view_rec = rec_coor.view\n",
    "view_rec"
   ]
  },
  {
   "cell_type": "code",
   "execution_count": 23,
   "metadata": {
    "nbsphinx": "hidden"
   },
   "outputs": [],
   "source": [
    "# To hide this cell add the following info in the cell metadata:\n",
    "# \"nbsphinx\": \"hidden\"\n",
    "import nglview as nv\n",
    "nv.write_html('../_static/rec.html', [view_rec])\n",
    "from IPython.display import IFrame"
   ]
  },
  {
   "cell_type": "code",
   "execution_count": 25,
   "metadata": {},
   "outputs": [
    {
     "data": {
      "text/html": [
       "\n",
       "        <iframe\n",
       "            width=\"800\"\n",
       "            height=\"300\"\n",
       "            src=\"../_static/rec.html\"\n",
       "            frameborder=\"0\"\n",
       "            allowfullscreen\n",
       "        ></iframe>\n",
       "        "
      ],
      "text/plain": [
       "<IPython.lib.display.IFrame at 0x7f70531c5970>"
      ]
     },
     "execution_count": 25,
     "metadata": {},
     "output_type": "execute_result"
    }
   ],
   "source": [
    "# Unecessary, only need to nglview online:\n",
    "IFrame(src='../_static/rec.html', width=800, height=300)"
   ]
  },
  {
   "cell_type": "markdown",
   "metadata": {},
   "source": [
    "## Prepare Ligand and receptor structures\n",
    "\n",
    "You need to create a ``Docking`` object, and the use the\n",
    "functions ``prepare_ligand()`` and ``prepare_receptor()``:"
   ]
  },
  {
   "cell_type": "code",
   "execution_count": 8,
   "metadata": {},
   "outputs": [
    {
     "name": "stdout",
     "output_type": "stream",
     "text": [
      "python2.5 ../../../../../../miniconda3/envs/docking/bin/prepare_ligand4.py -l lig.pdb -B none -A hydrogens -o lig.pdbqt\n"
     ]
    }
   ],
   "source": [
    "from docking_py import docking\n",
    "\n",
    "test_dock = docking.Docking('test', lig_pdb='data/lig.pdb', rec_pdb='data/rec.pdb')\n",
    "test_dock.prepare_ligand()"
   ]
  },
  {
   "cell_type": "code",
   "execution_count": 9,
   "metadata": {},
   "outputs": [
    {
     "name": "stdout",
     "output_type": "stream",
     "text": [
      "python2.5 ../../../../../miniconda3/envs/docking/bin/prepare_receptor4.py -r data/rec.pdb -A checkhydrogens -o data/rec.pdbqt\n"
     ]
    }
   ],
   "source": [
    "test_dock.prepare_receptor()"
   ]
  },
  {
   "cell_type": "markdown",
   "metadata": {},
   "source": [
    "## Launch docking calculation\n",
    "\n",
    "Launch the docking:"
   ]
  },
  {
   "cell_type": "code",
   "execution_count": 10,
   "metadata": {},
   "outputs": [
    {
     "name": "stderr",
     "output_type": "stream",
     "text": [
      "Grid points: None\n"
     ]
    },
    {
     "name": "stdout",
     "output_type": "stream",
     "text": [
      "smina --ligand data/lig.pdbqt --receptor data/rec.pdbqt --log test_dock_log.txt --num_modes 10 --exhaustiveness 16 --energy_range 10 --out test_dock.pdb --size_x 66.00 --size_y 81.00 --size_z 83.00 --center_x 16.07 --center_y 26.49 --center_z 3.77\n"
     ]
    }
   ],
   "source": [
    "test_dock.run_docking(out_pdb='test_dock.pdb',\n",
    "                      num_modes=10,\n",
    "                      energy_range=10,\n",
    "                      exhaustiveness=16,\n",
    "                      dock_bin='smina')"
   ]
  },
  {
   "cell_type": "markdown",
   "metadata": {},
   "source": [
    "## Analysis\n",
    "\n",
    "Extract affinity and RMSD to crystal structure:"
   ]
  },
  {
   "cell_type": "code",
   "execution_count": 11,
   "metadata": {
    "scrolled": true
   },
   "outputs": [
    {
     "name": "stderr",
     "output_type": "stream",
     "text": [
      "File name doesn't finish with .pdb read it as .pdb anyway\n"
     ]
    }
   ],
   "source": [
    "rmsd_list = test_dock.compute_dock_rmsd(test_dock.lig_pdbqt)"
   ]
  },
  {
   "cell_type": "code",
   "execution_count": 12,
   "metadata": {},
   "outputs": [
    {
     "data": {
      "text/plain": [
       "[0.6172348337545442,\n",
       " 4.523207300135602,\n",
       " 11.579705736330263,\n",
       " 9.904196947759067,\n",
       " 10.692842899809198,\n",
       " 10.975378963844483,\n",
       " 12.19258827074875,\n",
       " 10.207969165313932,\n",
       " 9.394261151362569,\n",
       " 12.029979500398163]"
      ]
     },
     "execution_count": 12,
     "metadata": {},
     "output_type": "execute_result"
    }
   ],
   "source": [
    "rmsd_list"
   ]
  },
  {
   "cell_type": "code",
   "execution_count": 26,
   "metadata": {
    "scrolled": true
   },
   "outputs": [
    {
     "data": {
      "application/vnd.jupyter.widget-view+json": {
       "model_id": "9ad1c8ca78a140f4af5e097f5d5cdc92",
       "version_major": 2,
       "version_minor": 0
      },
      "text/plain": [
       "NGLWidget(max_frame=9)"
      ]
     },
     "metadata": {},
     "output_type": "display_data"
    }
   ],
   "source": [
    "view_dock = test_dock.view_dock(ref_pdb=\"data/1hsg.pdb\")\n",
    "view_dock"
   ]
  },
  {
   "cell_type": "code",
   "execution_count": 29,
   "metadata": {
    "nbsphinx": "hidden"
   },
   "outputs": [],
   "source": [
    "# To hide this cell add the following info in the cell metadata:\n",
    "# \"nbsphinx\": \"hidden\"\n",
    "import nglview as nv\n",
    "nv.write_html('../_static/dock.html', [view_dock], frame_range=(0, 10))\n",
    "from IPython.display import IFrame"
   ]
  },
  {
   "cell_type": "code",
   "execution_count": 30,
   "metadata": {},
   "outputs": [
    {
     "data": {
      "text/html": [
       "\n",
       "        <iframe\n",
       "            width=\"800\"\n",
       "            height=\"300\"\n",
       "            src=\"../_static/dock.html\"\n",
       "            frameborder=\"0\"\n",
       "            allowfullscreen\n",
       "        ></iframe>\n",
       "        "
      ],
      "text/plain": [
       "<IPython.lib.display.IFrame at 0x7f70532c21c0>"
      ]
     },
     "execution_count": 30,
     "metadata": {},
     "output_type": "execute_result"
    }
   ],
   "source": [
    "# Unecessary, only need to nglview online:\n",
    "IFrame(src='../_static/dock.html', width=800, height=300)"
   ]
  },
  {
   "cell_type": "code",
   "execution_count": 15,
   "metadata": {},
   "outputs": [
    {
     "data": {
      "text/plain": [
       "{1: {'affinity': -11.9, 'rmsd_low': 0.0, 'rmsd_high': 0.0},\n",
       " 2: {'affinity': -10.6, 'rmsd_low': 2.288, 'rmsd_high': 4.387},\n",
       " 3: {'affinity': -9.3, 'rmsd_low': 3.55, 'rmsd_high': 11.574},\n",
       " 4: {'affinity': -8.8, 'rmsd_low': 5.812, 'rmsd_high': 9.719},\n",
       " 5: {'affinity': -8.7, 'rmsd_low': 5.959, 'rmsd_high': 10.368},\n",
       " 6: {'affinity': -8.7, 'rmsd_low': 3.265, 'rmsd_high': 10.921},\n",
       " 7: {'affinity': -8.4, 'rmsd_low': 3.702, 'rmsd_high': 12.258},\n",
       " 8: {'affinity': -8.3, 'rmsd_low': 5.468, 'rmsd_high': 9.968},\n",
       " 9: {'affinity': -8.2, 'rmsd_low': 5.679, 'rmsd_high': 9.289},\n",
       " 10: {'affinity': -8.1, 'rmsd_low': 7.058, 'rmsd_high': 11.97}}"
      ]
     },
     "execution_count": 15,
     "metadata": {},
     "output_type": "execute_result"
    }
   ],
   "source": [
    "test_dock.affinity"
   ]
  },
  {
   "cell_type": "code",
   "execution_count": null,
   "metadata": {},
   "outputs": [],
   "source": []
  }
 ],
 "metadata": {
  "celltoolbar": "Edit Metadata",
  "kernelspec": {
   "display_name": "Python 3",
   "language": "python",
   "name": "python3"
  },
  "language_info": {
   "codemirror_mode": {
    "name": "ipython",
    "version": 3
   },
   "file_extension": ".py",
   "mimetype": "text/x-python",
   "name": "python",
   "nbconvert_exporter": "python",
   "pygments_lexer": "ipython3",
   "version": "3.8.2"
  }
 },
 "nbformat": 4,
 "nbformat_minor": 4
}
